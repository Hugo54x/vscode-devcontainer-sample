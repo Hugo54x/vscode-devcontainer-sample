{
 "cells": [
  {
   "cell_type": "markdown",
   "metadata": {},
   "source": [
    "# This is a test notebook"
   ]
  },
  {
   "cell_type": "code",
   "execution_count": 21,
   "metadata": {},
   "outputs": [
    {
     "name": "stdout",
     "output_type": "stream",
     "text": [
      "/home/vscode/.vscode-server/extensions/ms-toolsai.jupyter-2021.9.1001312534/pythonFiles:/home/vscode/.vscode-server/extensions/ms-toolsai.jupyter-2021.9.1001312534/pythonFiles/lib/python\n",
      "\n"
     ]
    }
   ],
   "source": [
    "!pip3 install ipywidgets\n",
    "import sys\n",
    "#sys.path.append(\"../\")\n",
    "#%load_ext autoreload\n",
    "#%autoreload 2\n",
    "\n",
    "from ipywidgets import interact, interactive, fixed, interact_manual\n",
    "import ipywidgets as widgets\n",
    "#!echo $PYTHONPATH\n",
    "#!echo $JUPYTER_PATH"
   ]
  },
  {
   "cell_type": "code",
   "execution_count": 2,
   "metadata": {},
   "outputs": [],
   "source": [
    "def test():\n",
    "    pass"
   ]
  },
  {
   "cell_type": "code",
   "execution_count": null,
   "metadata": {},
   "outputs": [],
   "source": [
    "def main(args=None, kwargs=None):\n",
    "    \"\"\"The main routine.\"\"\"\n",
    "    if args is None:\n",
    "        args = sys.argv[1:]\n",
    "\n",
    "    print(\"This is the main routine.\")\n",
    "    print(\"It should do something interesting.\")\n",
    "    print(args)\n",
    "\n",
    "    # *Do argument parsing here (eg. with argparse) and anything else\n",
    "    # !you want your project to do. Return values are exit codes."
   ]
  },
  {
   "cell_type": "code",
   "execution_count": null,
   "metadata": {},
   "outputs": [],
   "source": [
    "if __name__ == \"__main__\":\n",
    "    sys.exit(main())"
   ]
  }
 ],
 "metadata": {
  "interpreter": {
   "hash": "6492f50af86946bbd22a525338648088136db79bea86b549d61d5a1dea31d343"
  },
  "kernelspec": {
   "display_name": "Python 3.7.10 64-bit",
   "name": "python3"
  },
  "language_info": {
   "codemirror_mode": {
    "name": "ipython",
    "version": 3
   },
   "file_extension": ".py",
   "mimetype": "text/x-python",
   "name": "python",
   "nbconvert_exporter": "python",
   "pygments_lexer": "ipython3",
   "version": "3.7.10"
  },
  "orig_nbformat": 4
 },
 "nbformat": 4,
 "nbformat_minor": 2
}
